{
 "cells": [
  {
   "cell_type": "markdown",
   "id": "c2ce1974",
   "metadata": {},
   "source": [
    "<h1>Data Science Tools and Ecosystem</h1>"
   ]
  },
  {
   "cell_type": "markdown",
   "id": "dea2ad9e",
   "metadata": {},
   "source": [
    "In this notebook, Data Science Tools and Ecosystem are summarized."
   ]
  },
  {
   "cell_type": "markdown",
   "id": "bb57b8e4",
   "metadata": {},
   "source": [
    "Some of the popular languages that Data Scientists use are:\n",
    " 1. Python\n",
    " 2. R\n",
    " 3. SQL\n",
    " 4. Julia\n",
    " 5. Scala"
   ]
  },
  {
   "cell_type": "markdown",
   "id": "5fd42a98",
   "metadata": {},
   "source": [
    "Some of the commonly used libraries used by Data Scientists include:\n",
    " 1) Pandas\n",
    " 2) Numpy\n",
    " 3) Scipy\n",
    " 4) Matplotlib\n",
    " 5) Tensorflow"
   ]
  },
  {
   "cell_type": "markdown",
   "id": "fc9e6552",
   "metadata": {},
   "source": [
    "|Data Science Tools|\n",
    "|-|\n",
    "|Jupyter|\n",
    "|Spark|\n",
    "|Hadoop|\n",
    "|Hive|"
   ]
  },
  {
   "cell_type": "markdown",
   "id": "f4842146",
   "metadata": {},
   "source": [
    "<h3>Below are a few examples of evaluating arithmetic expressions in Python</h3>"
   ]
  },
  {
   "cell_type": "code",
   "execution_count": 2,
   "id": "b3392c33",
   "metadata": {},
   "outputs": [
    {
     "data": {
      "text/plain": [
       "17"
      ]
     },
     "execution_count": 2,
     "metadata": {},
     "output_type": "execute_result"
    }
   ],
   "source": [
    "# This a simple arithmetic expression to mutiply then add integers\n",
    "(3*4)+5"
   ]
  },
  {
   "cell_type": "code",
   "execution_count": 3,
   "id": "9b7e2e39",
   "metadata": {},
   "outputs": [
    {
     "data": {
      "text/plain": [
       "3.3333333333333335"
      ]
     },
     "execution_count": 3,
     "metadata": {},
     "output_type": "execute_result"
    }
   ],
   "source": [
    "# This will convert 200 minutes to hours by diving by 60\n",
    "minutes = 200\n",
    "hours = minutes/60\n",
    "hours"
   ]
  },
  {
   "cell_type": "markdown",
   "id": "97dae0ce",
   "metadata": {},
   "source": [
    "<b>Objectives:</b>\n",
    " * List popular languages for Data Science\n",
    " * Convert minutes to hours\n",
    " * Do simple arithmetics\n",
    " * List some Data Science tools"
   ]
  },
  {
   "cell_type": "markdown",
   "id": "dc43524b",
   "metadata": {},
   "source": [
    "<h2>Author</h2>\n",
    "Milad Alibabaie"
   ]
  }
 ],
 "metadata": {
  "kernelspec": {
   "display_name": "Python 3 (ipykernel)",
   "language": "python",
   "name": "python3"
  },
  "language_info": {
   "codemirror_mode": {
    "name": "ipython",
    "version": 3
   },
   "file_extension": ".py",
   "mimetype": "text/x-python",
   "name": "python",
   "nbconvert_exporter": "python",
   "pygments_lexer": "ipython3",
   "version": "3.9.18"
  }
 },
 "nbformat": 4,
 "nbformat_minor": 5
}
